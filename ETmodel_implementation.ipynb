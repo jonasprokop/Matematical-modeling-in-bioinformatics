{
 "cells": [
  {
   "cell_type": "code",
   "execution_count": null,
   "metadata": {},
   "outputs": [],
   "source": [
    "from \\Matematical-modeling-in-bioinformatics\\ETmodel import ET_model"
   ]
  },
  {
   "cell_type": "code",
   "execution_count": null,
   "metadata": {},
   "outputs": [],
   "source": [
    "model = ET_model(E=10**1, T=10**2, p=0.5, m=1, n=2, r=0.1, k=0.05, c=1, u=0.01, v=1, s=0.1, d=0.01, time_points=[0.5, 0.8, 1.6, 1.9, 3.5], strength=10**1, delta_t = 0.01, treatment_present = True)\n",
    "results = model._observe_repated_infection(iterations = 1000, num_of_infections = 4, dose = 10**2)\n",
    "print(results)\n",
    "model._plot_scatter()"
   ]
  }
 ],
 "metadata": {
  "kernelspec": {
   "display_name": ".venv",
   "language": "python",
   "name": "python3"
  },
  "language_info": {
   "name": "python",
   "version": "3.12.7"
  }
 },
 "nbformat": 4,
 "nbformat_minor": 2
}
